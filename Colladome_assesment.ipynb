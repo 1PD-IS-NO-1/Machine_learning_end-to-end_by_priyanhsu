{
  "nbformat": 4,
  "nbformat_minor": 0,
  "metadata": {
    "colab": {
      "provenance": [],
      "authorship_tag": "ABX9TyO7XvtfyTbUxcmgxzI0DCxf",
      "include_colab_link": true
    },
    "kernelspec": {
      "name": "python3",
      "display_name": "Python 3"
    },
    "language_info": {
      "name": "python"
    }
  },
  "cells": [
    {
      "cell_type": "markdown",
      "metadata": {
        "id": "view-in-github",
        "colab_type": "text"
      },
      "source": [
        "<a href=\"https://colab.research.google.com/github/1PD-IS-NO-1/mlproject/blob/main/Colladome_assesment.ipynb\" target=\"_parent\"><img src=\"https://colab.research.google.com/assets/colab-badge.svg\" alt=\"Open In Colab\"/></a>"
      ]
    },
    {
      "cell_type": "code",
      "execution_count": 1,
      "metadata": {
        "colab": {
          "base_uri": "https://localhost:8080/"
        },
        "id": "tZk4kVXazOBp",
        "outputId": "3303b1f0-8fb3-4f71-b7a2-0da2a8eebcdb"
      },
      "outputs": [
        {
          "output_type": "stream",
          "name": "stdout",
          "text": [
            "{1: 2, 2: 2, 3: 1, 4: 1}\n"
          ]
        }
      ],
      "source": [
        "def frequency_counter(numbers):\n",
        "    freq = {}\n",
        "    for num in numbers:\n",
        "        freq[num] = freq.get(num, 0) + 1\n",
        "    return freq\n",
        "\n",
        "# Example\n",
        "input_list = [1, 2, 2, 3, 1, 4]\n",
        "print(frequency_counter(input_list))\n",
        "# Output: {1: 2, 2: 2, 3: 1, 4: 1}\n"
      ]
    },
    {
      "cell_type": "code",
      "source": [
        "def min_max_normalize(numbers):\n",
        "    min_val = min(numbers)\n",
        "    max_val = max(numbers)\n",
        "    return [(x - min_val) / (max_val - min_val) for x in numbers]\n",
        "\n",
        "\n",
        "input_list = [10, 20, 30, 40, 50]\n",
        "print(min_max_normalize(input_list))"
      ],
      "metadata": {
        "colab": {
          "base_uri": "https://localhost:8080/"
        },
        "id": "7NqjBhZ2zq6L",
        "outputId": "a55f8a7b-d052-45b6-8cab-f75e2d34d658"
      },
      "execution_count": 5,
      "outputs": [
        {
          "output_type": "stream",
          "name": "stdout",
          "text": [
            "[0.0, 0.25, 0.5, 0.75, 1.0]\n"
          ]
        }
      ]
    },
    {
      "cell_type": "code",
      "source": [
        "import pandas as pd\n",
        "\n",
        "def clean_salary_data(csv_file):\n",
        "    df = pd.read_csv(csv_file)\n",
        "    # Fill missing values in 'salary' with the column mean\n",
        "    df['salary'] = df['salary'].fillna(df['salary'].mean())\n",
        "    # Return average salary after cleaning\n",
        "    return df['salary'].mean()\n",
        "\n",
        "# we can use this function like this\n",
        "# avg_salary = clean_salary_data('data.csv')\n",
        "# print(\"Average Salary:\", avg_salary)\n"
      ],
      "metadata": {
        "id": "S7GpRxyAz5di"
      },
      "execution_count": 4,
      "outputs": []
    },
    {
      "cell_type": "code",
      "source": [
        "from sklearn.datasets import load_iris\n",
        "from sklearn.linear_model import LogisticRegression\n",
        "from sklearn.model_selection import train_test_split\n",
        "from sklearn.metrics import accuracy_score\n",
        "\n",
        "def iris_classification():\n",
        "    # Load the Iris dataset\n",
        "    iris = load_iris()\n",
        "    X = iris.data\n",
        "    y = iris.target\n",
        "\n",
        "    # Split into training and testing sets (80% train, 20% test)\n",
        "    X_train, X_test, y_train, y_test = train_test_split(X, y, test_size=0.2, random_state=42)\n",
        "\n",
        "    # Train a Logistic Regression model\n",
        "    model = LogisticRegression(max_iter=100)\n",
        "    model.fit(X_train, y_train)\n",
        "\n",
        "    # Predict and calculate accuracy\n",
        "    y_pred = model.predict(X_test)\n",
        "    accuracy = accuracy_score(y_test, y_pred)\n",
        "\n",
        "    print(\"Accuracy Score:\", accuracy)\n",
        "\n",
        "# Run the function\n",
        "iris_classification()\n"
      ],
      "metadata": {
        "colab": {
          "base_uri": "https://localhost:8080/"
        },
        "id": "IGMX10LE0S89",
        "outputId": "37a45271-c25b-41ab-93d7-e9c12b02193a"
      },
      "execution_count": 8,
      "outputs": [
        {
          "output_type": "stream",
          "name": "stdout",
          "text": [
            "Accuracy Score: 1.0\n"
          ]
        }
      ]
    },
    {
      "cell_type": "code",
      "source": [
        "prompt = \"\"\"You are an expert assistant. Summarize the following email into clear and concise bullet points. Focus on the main action items, key updates, and deadlines if any.\n",
        "\n",
        "Email BODY:\n",
        "\n",
        "[Email_body_content]\n",
        "\"\"\""
      ],
      "metadata": {
        "colab": {
          "base_uri": "https://localhost:8080/",
          "height": 53
        },
        "id": "MLZt_Z3f0vsg",
        "outputId": "58f2cfb9-3f57-4aff-a21e-052dbca8cbe2"
      },
      "execution_count": 7,
      "outputs": [
        {
          "output_type": "execute_result",
          "data": {
            "text/plain": [
              "'You are an expert assistant. Summarize the following email into clear and concise bullet points. Focus on the main action items, key updates, and deadlines if any.\\n\\nEmail BODY:\\n\\n[Email_body_content]\\n'"
            ],
            "application/vnd.google.colaboratory.intrinsic+json": {
              "type": "string"
            }
          },
          "metadata": {},
          "execution_count": 7
        }
      ]
    }
  ]
}